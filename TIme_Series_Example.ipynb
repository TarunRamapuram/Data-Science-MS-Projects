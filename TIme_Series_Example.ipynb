{
 "cells": [
  {
   "cell_type": "markdown",
   "id": "4e0ea5bb",
   "metadata": {},
   "source": [
    "# Installing and Importing libraries"
   ]
  },
  {
   "cell_type": "code",
   "execution_count": 118,
   "id": "b2c650e4",
   "metadata": {},
   "outputs": [],
   "source": [
    "import yfinance as yf\n",
    "import numpy as np\n",
    "import pandas as pd\n",
    "from sklearn.model_selection import train_test_split\n",
    "from sklearn.metrics import accuracy_score\n",
    "from xgboost import XGBClassifier\n",
    "from sklearn.ensemble import RandomForestClassifier"
   ]
  },
  {
   "cell_type": "markdown",
   "id": "5a8b7bda",
   "metadata": {},
   "source": [
    "# Function to download stock data"
   ]
  },
  {
   "cell_type": "code",
   "execution_count": 119,
   "id": "fb84741f",
   "metadata": {},
   "outputs": [],
   "source": [
    "def stock_download_data(ticker, start_date, end_date):\n",
    "    data = yf.download(ticker, start = start_date, end = end_date)\n",
    "    return data"
   ]
  },
  {
   "cell_type": "markdown",
   "id": "eb0a6921",
   "metadata": {},
   "source": [
    "# Function to create Trading strategy given in the document"
   ]
  },
  {
   "cell_type": "code",
   "execution_count": 120,
   "id": "9c172cbd",
   "metadata": {},
   "outputs": [],
   "source": [
    "def create_strategy_formula(data):\n",
    "    formula = np.where(data['Close'].shift(-1) > data['Close'], 1, -1)\n",
    "    return formula[:]"
   ]
  },
  {
   "cell_type": "markdown",
   "id": "973fdaef",
   "metadata": {},
   "source": [
    "# Fuction to preprocess the data and split into Training and Test sets"
   ]
  },
  {
   "cell_type": "code",
   "execution_count": 121,
   "id": "f88c2ff4",
   "metadata": {},
   "outputs": [],
   "source": [
    "def Train_test_data_fun(features, labels):\n",
    "    X_train, X_test, y_train, y_test = train_test_split(features, labels, test_size = 0.2, random_state = 42)\n",
    "    return X_train, X_test, y_train, y_test"
   ]
  },
  {
   "cell_type": "markdown",
   "id": "73dd6e1c",
   "metadata": {},
   "source": [
    "# Function to train and evauate classifiers"
   ]
  },
  {
   "cell_type": "code",
   "execution_count": 122,
   "id": "62fe401b",
   "metadata": {},
   "outputs": [],
   "source": [
    "def train_and_evaluate(classifier,X_train, X_test, y_train, y_test):\n",
    "    classifier.fit(X_train, y_train)\n",
    "    predictions = classifier.predict(X_test)\n",
    "    accuracy = accuracy_score(y_test, predictions)\n",
    "    return accuracy,predictions"
   ]
  },
  {
   "cell_type": "markdown",
   "id": "2ce897c7",
   "metadata": {},
   "source": [
    "# Defining the stock data download parameters"
   ]
  },
  {
   "cell_type": "code",
   "execution_count": 123,
   "id": "d743a632",
   "metadata": {},
   "outputs": [],
   "source": [
    "ticker = \"AAPL\"\n",
    "start_date = \"2015-01-01\"\n",
    "end_date = \"2023-12-31\""
   ]
  },
  {
   "cell_type": "markdown",
   "id": "804a2e0b",
   "metadata": {},
   "source": [
    "# Downloading Stock Data"
   ]
  },
  {
   "cell_type": "code",
   "execution_count": 124,
   "id": "6f0118ce",
   "metadata": {},
   "outputs": [
    {
     "name": "stderr",
     "output_type": "stream",
     "text": [
      "[*********************100%%**********************]  1 of 1 completed\n"
     ]
    }
   ],
   "source": [
    "data = stock_download_data(ticker, start_date, end_date)"
   ]
  },
  {
   "cell_type": "code",
   "execution_count": 125,
   "id": "35a08efc",
   "metadata": {},
   "outputs": [
    {
     "data": {
      "text/html": [
       "<div>\n",
       "<style scoped>\n",
       "    .dataframe tbody tr th:only-of-type {\n",
       "        vertical-align: middle;\n",
       "    }\n",
       "\n",
       "    .dataframe tbody tr th {\n",
       "        vertical-align: top;\n",
       "    }\n",
       "\n",
       "    .dataframe thead th {\n",
       "        text-align: right;\n",
       "    }\n",
       "</style>\n",
       "<table border=\"1\" class=\"dataframe\">\n",
       "  <thead>\n",
       "    <tr style=\"text-align: right;\">\n",
       "      <th></th>\n",
       "      <th>Open</th>\n",
       "      <th>High</th>\n",
       "      <th>Low</th>\n",
       "      <th>Close</th>\n",
       "      <th>Adj Close</th>\n",
       "      <th>Volume</th>\n",
       "    </tr>\n",
       "    <tr>\n",
       "      <th>Date</th>\n",
       "      <th></th>\n",
       "      <th></th>\n",
       "      <th></th>\n",
       "      <th></th>\n",
       "      <th></th>\n",
       "      <th></th>\n",
       "    </tr>\n",
       "  </thead>\n",
       "  <tbody>\n",
       "    <tr>\n",
       "      <th>2015-01-02</th>\n",
       "      <td>27.847500</td>\n",
       "      <td>27.860001</td>\n",
       "      <td>26.837500</td>\n",
       "      <td>27.332500</td>\n",
       "      <td>24.435268</td>\n",
       "      <td>212818400</td>\n",
       "    </tr>\n",
       "    <tr>\n",
       "      <th>2015-01-05</th>\n",
       "      <td>27.072500</td>\n",
       "      <td>27.162500</td>\n",
       "      <td>26.352501</td>\n",
       "      <td>26.562500</td>\n",
       "      <td>23.746897</td>\n",
       "      <td>257142000</td>\n",
       "    </tr>\n",
       "    <tr>\n",
       "      <th>2015-01-06</th>\n",
       "      <td>26.635000</td>\n",
       "      <td>26.857500</td>\n",
       "      <td>26.157499</td>\n",
       "      <td>26.565001</td>\n",
       "      <td>23.749123</td>\n",
       "      <td>263188400</td>\n",
       "    </tr>\n",
       "    <tr>\n",
       "      <th>2015-01-07</th>\n",
       "      <td>26.799999</td>\n",
       "      <td>27.049999</td>\n",
       "      <td>26.674999</td>\n",
       "      <td>26.937500</td>\n",
       "      <td>24.082142</td>\n",
       "      <td>160423600</td>\n",
       "    </tr>\n",
       "    <tr>\n",
       "      <th>2015-01-08</th>\n",
       "      <td>27.307501</td>\n",
       "      <td>28.037500</td>\n",
       "      <td>27.174999</td>\n",
       "      <td>27.972500</td>\n",
       "      <td>25.007429</td>\n",
       "      <td>237458000</td>\n",
       "    </tr>\n",
       "  </tbody>\n",
       "</table>\n",
       "</div>"
      ],
      "text/plain": [
       "                 Open       High        Low      Close  Adj Close     Volume\n",
       "Date                                                                        \n",
       "2015-01-02  27.847500  27.860001  26.837500  27.332500  24.435268  212818400\n",
       "2015-01-05  27.072500  27.162500  26.352501  26.562500  23.746897  257142000\n",
       "2015-01-06  26.635000  26.857500  26.157499  26.565001  23.749123  263188400\n",
       "2015-01-07  26.799999  27.049999  26.674999  26.937500  24.082142  160423600\n",
       "2015-01-08  27.307501  28.037500  27.174999  27.972500  25.007429  237458000"
      ]
     },
     "execution_count": 125,
     "metadata": {},
     "output_type": "execute_result"
    }
   ],
   "source": [
    "data.head()"
   ]
  },
  {
   "cell_type": "markdown",
   "id": "898b6362",
   "metadata": {},
   "source": [
    "# Applying the strategy formula"
   ]
  },
  {
   "cell_type": "code",
   "execution_count": 126,
   "id": "42707ab4",
   "metadata": {},
   "outputs": [],
   "source": [
    "strategy_formula = create_strategy_formula(data)"
   ]
  },
  {
   "cell_type": "code",
   "execution_count": 127,
   "id": "4289de08",
   "metadata": {},
   "outputs": [
    {
     "data": {
      "text/plain": [
       "(2264,)"
      ]
     },
     "execution_count": 127,
     "metadata": {},
     "output_type": "execute_result"
    }
   ],
   "source": [
    "strategy_formula.shape"
   ]
  },
  {
   "cell_type": "markdown",
   "id": "85086c94",
   "metadata": {},
   "source": [
    "# Assiging the features"
   ]
  },
  {
   "cell_type": "code",
   "execution_count": 128,
   "id": "81d72602",
   "metadata": {},
   "outputs": [],
   "source": [
    "features = data[['Open', 'High', 'Low', 'Close', 'Volume']].values"
   ]
  },
  {
   "cell_type": "code",
   "execution_count": 129,
   "id": "f17e7923",
   "metadata": {},
   "outputs": [
    {
     "data": {
      "text/html": [
       "<div>\n",
       "<style scoped>\n",
       "    .dataframe tbody tr th:only-of-type {\n",
       "        vertical-align: middle;\n",
       "    }\n",
       "\n",
       "    .dataframe tbody tr th {\n",
       "        vertical-align: top;\n",
       "    }\n",
       "\n",
       "    .dataframe thead th {\n",
       "        text-align: right;\n",
       "    }\n",
       "</style>\n",
       "<table border=\"1\" class=\"dataframe\">\n",
       "  <thead>\n",
       "    <tr style=\"text-align: right;\">\n",
       "      <th></th>\n",
       "      <th>0</th>\n",
       "      <th>1</th>\n",
       "      <th>2</th>\n",
       "      <th>3</th>\n",
       "      <th>4</th>\n",
       "    </tr>\n",
       "  </thead>\n",
       "  <tbody>\n",
       "    <tr>\n",
       "      <th>0</th>\n",
       "      <td>27.847500</td>\n",
       "      <td>27.860001</td>\n",
       "      <td>26.837500</td>\n",
       "      <td>27.332500</td>\n",
       "      <td>212818400.0</td>\n",
       "    </tr>\n",
       "    <tr>\n",
       "      <th>1</th>\n",
       "      <td>27.072500</td>\n",
       "      <td>27.162500</td>\n",
       "      <td>26.352501</td>\n",
       "      <td>26.562500</td>\n",
       "      <td>257142000.0</td>\n",
       "    </tr>\n",
       "    <tr>\n",
       "      <th>2</th>\n",
       "      <td>26.635000</td>\n",
       "      <td>26.857500</td>\n",
       "      <td>26.157499</td>\n",
       "      <td>26.565001</td>\n",
       "      <td>263188400.0</td>\n",
       "    </tr>\n",
       "    <tr>\n",
       "      <th>3</th>\n",
       "      <td>26.799999</td>\n",
       "      <td>27.049999</td>\n",
       "      <td>26.674999</td>\n",
       "      <td>26.937500</td>\n",
       "      <td>160423600.0</td>\n",
       "    </tr>\n",
       "    <tr>\n",
       "      <th>4</th>\n",
       "      <td>27.307501</td>\n",
       "      <td>28.037500</td>\n",
       "      <td>27.174999</td>\n",
       "      <td>27.972500</td>\n",
       "      <td>237458000.0</td>\n",
       "    </tr>\n",
       "  </tbody>\n",
       "</table>\n",
       "</div>"
      ],
      "text/plain": [
       "           0          1          2          3            4\n",
       "0  27.847500  27.860001  26.837500  27.332500  212818400.0\n",
       "1  27.072500  27.162500  26.352501  26.562500  257142000.0\n",
       "2  26.635000  26.857500  26.157499  26.565001  263188400.0\n",
       "3  26.799999  27.049999  26.674999  26.937500  160423600.0\n",
       "4  27.307501  28.037500  27.174999  27.972500  237458000.0"
      ]
     },
     "execution_count": 129,
     "metadata": {},
     "output_type": "execute_result"
    }
   ],
   "source": [
    "features_df = pd.DataFrame(features)\n",
    "features_df.head()"
   ]
  },
  {
   "cell_type": "code",
   "execution_count": 130,
   "id": "4faff47e",
   "metadata": {},
   "outputs": [
    {
     "data": {
      "text/plain": [
       "(2264, 5)"
      ]
     },
     "execution_count": 130,
     "metadata": {},
     "output_type": "execute_result"
    }
   ],
   "source": [
    "features_df.shape"
   ]
  },
  {
   "cell_type": "markdown",
   "id": "3652402b",
   "metadata": {},
   "source": [
    "# Labels for ML Classifiers"
   ]
  },
  {
   "cell_type": "code",
   "execution_count": 131,
   "id": "24755c9b",
   "metadata": {},
   "outputs": [],
   "source": [
    "labels = strategy_formula"
   ]
  },
  {
   "cell_type": "code",
   "execution_count": 132,
   "id": "fa738cdb",
   "metadata": {},
   "outputs": [
    {
     "data": {
      "text/plain": [
       "array([-1,  1,  1, ...,  1, -1, -1])"
      ]
     },
     "execution_count": 132,
     "metadata": {},
     "output_type": "execute_result"
    }
   ],
   "source": [
    "labels"
   ]
  },
  {
   "cell_type": "code",
   "execution_count": 133,
   "id": "31e91430",
   "metadata": {},
   "outputs": [
    {
     "data": {
      "text/plain": [
       "(2264,)"
      ]
     },
     "execution_count": 133,
     "metadata": {},
     "output_type": "execute_result"
    }
   ],
   "source": [
    "labels.shape"
   ]
  },
  {
   "cell_type": "markdown",
   "id": "218945fa",
   "metadata": {},
   "source": [
    "# Checking for the null values"
   ]
  },
  {
   "cell_type": "code",
   "execution_count": 134,
   "id": "e61028a3",
   "metadata": {},
   "outputs": [
    {
     "data": {
      "text/plain": [
       "0"
      ]
     },
     "execution_count": 134,
     "metadata": {},
     "output_type": "execute_result"
    }
   ],
   "source": [
    "null_data = np.count_nonzero(np.isnan(labels))\n",
    "null_data"
   ]
  },
  {
   "cell_type": "markdown",
   "id": "6cd47c57",
   "metadata": {},
   "source": [
    "- There are no null values in the labels"
   ]
  },
  {
   "cell_type": "markdown",
   "id": "455baaae",
   "metadata": {},
   "source": [
    "# Train_Split_data"
   ]
  },
  {
   "cell_type": "code",
   "execution_count": 135,
   "id": "4339c550",
   "metadata": {},
   "outputs": [],
   "source": [
    "X_train, X_test, y_train, y_test = Train_test_data_fun(features_df,labels)"
   ]
  },
  {
   "cell_type": "code",
   "execution_count": 136,
   "id": "9a09cbb8",
   "metadata": {},
   "outputs": [
    {
     "data": {
      "text/plain": [
       "(1811, 5)"
      ]
     },
     "execution_count": 136,
     "metadata": {},
     "output_type": "execute_result"
    }
   ],
   "source": [
    "X_train.shape"
   ]
  },
  {
   "cell_type": "code",
   "execution_count": 137,
   "id": "9a7790e3",
   "metadata": {},
   "outputs": [
    {
     "data": {
      "text/plain": [
       "(1811,)"
      ]
     },
     "execution_count": 137,
     "metadata": {},
     "output_type": "execute_result"
    }
   ],
   "source": [
    "y_train.shape"
   ]
  },
  {
   "cell_type": "code",
   "execution_count": 138,
   "id": "47594dbb",
   "metadata": {},
   "outputs": [
    {
     "data": {
      "text/plain": [
       "(453, 5)"
      ]
     },
     "execution_count": 138,
     "metadata": {},
     "output_type": "execute_result"
    }
   ],
   "source": [
    "X_test.shape"
   ]
  },
  {
   "cell_type": "markdown",
   "id": "0e4b1849",
   "metadata": {},
   "source": [
    "# Initializing the classifiers"
   ]
  },
  {
   "cell_type": "code",
   "execution_count": 139,
   "id": "9af528ef",
   "metadata": {},
   "outputs": [],
   "source": [
    "rf_classifier = RandomForestClassifier()\n",
    "xgb_classifier = XGBClassifier()"
   ]
  },
  {
   "cell_type": "code",
   "execution_count": 140,
   "id": "5d3f13f8",
   "metadata": {},
   "outputs": [],
   "source": [
    "# Preprocess the labels to be in the range of 0 and 1\n",
    "y_train_processed = np.where(y_train == -1, 0, y_train)\n",
    "y_test_processed = np.where(y_test == -1, 0, y_test)"
   ]
  },
  {
   "cell_type": "code",
   "execution_count": 141,
   "id": "511d6436",
   "metadata": {},
   "outputs": [],
   "source": [
    "rf_accuracy, rf_predictions = train_and_evaluate(rf_classifier, X_train, X_test, y_train_processed, y_test_processed)"
   ]
  },
  {
   "cell_type": "code",
   "execution_count": 142,
   "id": "bf733193",
   "metadata": {},
   "outputs": [],
   "source": [
    "# Train and evaluate the XGBClassifier model\n",
    "xgb_accuracy, xgb_predictions = train_and_evaluate(xgb_classifier, X_train, X_test, y_train_processed, y_test_processed)"
   ]
  },
  {
   "cell_type": "markdown",
   "id": "0dbfcb5b",
   "metadata": {},
   "source": [
    "# Accuracy of the Model"
   ]
  },
  {
   "cell_type": "code",
   "execution_count": 143,
   "id": "93a2deff",
   "metadata": {},
   "outputs": [
    {
     "name": "stdout",
     "output_type": "stream",
     "text": [
      "Random Forest Classifier (RF) Accuracy: 0.5099337748344371\n",
      "XGBoost Classifier (XGB) Accuracy: 0.4900662251655629\n"
     ]
    }
   ],
   "source": [
    "print(f'Random Forest Classifier (RF) Accuracy: {rf_accuracy}')\n",
    "print(f'XGBoost Classifier (XGB) Accuracy: {xgb_accuracy}')"
   ]
  }
 ],
 "metadata": {
  "kernelspec": {
   "display_name": "Python 3 (ipykernel)",
   "language": "python",
   "name": "python3"
  },
  "language_info": {
   "codemirror_mode": {
    "name": "ipython",
    "version": 3
   },
   "file_extension": ".py",
   "mimetype": "text/x-python",
   "name": "python",
   "nbconvert_exporter": "python",
   "pygments_lexer": "ipython3",
   "version": "3.11.5"
  }
 },
 "nbformat": 4,
 "nbformat_minor": 5
}
